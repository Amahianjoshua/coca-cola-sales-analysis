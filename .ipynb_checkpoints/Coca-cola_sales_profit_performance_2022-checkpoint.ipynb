{
 "cells": [
  {
   "cell_type": "markdown",
   "id": "ee3b255c-7f27-407a-9758-517cd1d100de",
   "metadata": {},
   "source": [
    "<p style=\"text-align: center;\">\n",
    "    <img src=\"images/coca.png\" style=\"width:300px;\">\n",
    "</p>\n",
    "\n",
    "\n",
    "# 🥤 Coca-Cola Sales & Operating Profit Analysis (Python Edition)\n",
    "\n",
    "This project presents an exploratory data analysis (EDA) of Coca-Cola’s beverage sales and operating profit across various U.S. retailers, states, and time periods using Python. The analysis is designed to extract actionable business insights using popular data analysis libraries.\n",
    "\n",
    "## 📌 Overview\n",
    "\n",
    "The dataset contains real-world sales and profit records across:\n",
    "\n",
    "- U.S. **Retailers** (e.g., Walmart, CVS)  \n",
    "- **States** and **Geographic Regions**  \n",
    "- **Beverage Products** (e.g., Coca-Cola, Diet Coke, Dasani, Sprite, Fanta, Powerade)  \n",
    "- **Operating Profit** and **Units Sold**  \n",
    "- **Monthly and Seasonal Trends**\n",
    "\n",
    "The goal of this project is to explore patterns in Coca-Cola’s performance, uncover trends, and build a strong foundation for data-driven decision-making.\n",
    "\n",
    "## 🎯 Project Objective\n",
    "\n",
    "To evaluate Coca-Cola’s sales and profit performance using Python-based data analysis techniques and provide a business-oriented perspective based on the findings.\n",
    "\n",
    "## 💡 Personal Interest\n",
    "\n",
    "This dataset caught my attention because my mum runs a wholesale business that distributes Coca-Cola products. It gave me a chance to connect data analysis with real-world experience while sharpening my Python skills.\n",
    "\n",
    "## ❓ Business Questions\n",
    "\n",
    "The analysis is guided by the following business questions:\n",
    "\n",
    "1. What are the top 3 beverage brands by total units sold?\n",
    "2. Which U.S. regions generate the highest operating profit?\n",
    "3. Which 5 cities drive the most sales or profit?\n",
    "4. How do sales and profits trend throughout the year?\n",
    "5. How does each brand perform based on operating margin?\n",
    "\n",
    "## 🗃️ Dataset Overview\n",
    "\n",
    "- **Source:** Provided as part of a data analytics project  \n",
    "- **Scope:** Focused on the U.S. market  \n",
    "- **Key Columns:**  \n",
    "  - Total Sales  \n",
    "  - Operating Profit  \n",
    "  - Beverage Type  \n",
    "  - Retailer Name  \n",
    "  - State / Region / City  \n",
    "  - Delivery Method  \n",
    "  - Month and Season  \n",
    "\n",
    "## 🛠 Tools & Libraries Used\n",
    "\n",
    "- **Python**  \n",
    "- `Pandas` for data manipulation  \n",
    "- `NumPy` for numerical operations  \n",
    "- `Matplotlib` and `Seaborn` for data visualization  \n",
    "- `Jupyter Notebook` environment  \n"
   ]
  },
  {
   "cell_type": "code",
   "execution_count": 39,
   "id": "fa4b2b76-1624-4dca-a11a-aca2458defb6",
   "metadata": {},
   "outputs": [],
   "source": [
    "# import the neccessary dependencies\n",
    "import numpy as np\n",
    "import pandas as pd\n",
    "import matplotlib.pyplot as plt\n",
    "import seaborn as sns\n",
    "import re\n",
    "seaborn_palettes = list(sns.palettes.SEABORN_PALETTES.keys())\n",
    "\n"
   ]
  },
  {
   "cell_type": "code",
   "execution_count": 2,
   "id": "4fafb09f-1161-4fca-b3a3-1447ec4dc7a0",
   "metadata": {},
   "outputs": [
    {
     "data": {
      "text/html": [
       "<div>\n",
       "<style scoped>\n",
       "    .dataframe tbody tr th:only-of-type {\n",
       "        vertical-align: middle;\n",
       "    }\n",
       "\n",
       "    .dataframe tbody tr th {\n",
       "        vertical-align: top;\n",
       "    }\n",
       "\n",
       "    .dataframe thead th {\n",
       "        text-align: right;\n",
       "    }\n",
       "</style>\n",
       "<table border=\"1\" class=\"dataframe\">\n",
       "  <thead>\n",
       "    <tr style=\"text-align: right;\">\n",
       "      <th></th>\n",
       "      <th>Retailer</th>\n",
       "      <th>Retailer ID</th>\n",
       "      <th>Invoice Date</th>\n",
       "      <th>Region</th>\n",
       "      <th>State</th>\n",
       "      <th>City</th>\n",
       "      <th>Beverage Brand</th>\n",
       "      <th>Days to \\nDeliver</th>\n",
       "      <th>Delivery \\nCompany</th>\n",
       "      <th>Price per \\nUnit</th>\n",
       "      <th>Units Sold</th>\n",
       "      <th>Total Sales</th>\n",
       "      <th>Operating Profit</th>\n",
       "      <th>Operating Margin</th>\n",
       "    </tr>\n",
       "  </thead>\n",
       "  <tbody>\n",
       "    <tr>\n",
       "      <th>0</th>\n",
       "      <td>Walmart</td>\n",
       "      <td>1185732</td>\n",
       "      <td>1/14/2022</td>\n",
       "      <td>Northeast</td>\n",
       "      <td>New York</td>\n",
       "      <td>New York</td>\n",
       "      <td>Coca-Cola</td>\n",
       "      <td>25</td>\n",
       "      <td>USPS</td>\n",
       "      <td>$0.50</td>\n",
       "      <td>12,000</td>\n",
       "      <td>$6,000</td>\n",
       "      <td>$3,000</td>\n",
       "      <td>50%</td>\n",
       "    </tr>\n",
       "    <tr>\n",
       "      <th>1</th>\n",
       "      <td>Walmart</td>\n",
       "      <td>1185732</td>\n",
       "      <td>1/14/2022</td>\n",
       "      <td>Northeast</td>\n",
       "      <td>New York</td>\n",
       "      <td>New York</td>\n",
       "      <td>Diet Coke</td>\n",
       "      <td>34</td>\n",
       "      <td>FedEx</td>\n",
       "      <td>$0.50</td>\n",
       "      <td>10,000</td>\n",
       "      <td>$5,000</td>\n",
       "      <td>$1,500</td>\n",
       "      <td>30%</td>\n",
       "    </tr>\n",
       "    <tr>\n",
       "      <th>2</th>\n",
       "      <td>Walmart</td>\n",
       "      <td>1185732</td>\n",
       "      <td>1/14/2022</td>\n",
       "      <td>Northeast</td>\n",
       "      <td>New York</td>\n",
       "      <td>New York</td>\n",
       "      <td>Sprite</td>\n",
       "      <td>48</td>\n",
       "      <td>UPS</td>\n",
       "      <td>$0.40</td>\n",
       "      <td>10,000</td>\n",
       "      <td>$4,000</td>\n",
       "      <td>$1,400</td>\n",
       "      <td>35%</td>\n",
       "    </tr>\n",
       "    <tr>\n",
       "      <th>3</th>\n",
       "      <td>Walmart</td>\n",
       "      <td>1185732</td>\n",
       "      <td>1/14/2022</td>\n",
       "      <td>Northeast</td>\n",
       "      <td>New York</td>\n",
       "      <td>New York</td>\n",
       "      <td>Fanta</td>\n",
       "      <td>20</td>\n",
       "      <td>USPS</td>\n",
       "      <td>$0.45</td>\n",
       "      <td>8,500</td>\n",
       "      <td>$3,825</td>\n",
       "      <td>$1,339</td>\n",
       "      <td>35%</td>\n",
       "    </tr>\n",
       "    <tr>\n",
       "      <th>4</th>\n",
       "      <td>Walmart</td>\n",
       "      <td>1185732</td>\n",
       "      <td>1/14/2022</td>\n",
       "      <td>Northeast</td>\n",
       "      <td>New York</td>\n",
       "      <td>New York</td>\n",
       "      <td>Powerade</td>\n",
       "      <td>26</td>\n",
       "      <td>USPS</td>\n",
       "      <td>$0.60</td>\n",
       "      <td>9,000</td>\n",
       "      <td>$5,400</td>\n",
       "      <td>$1,620</td>\n",
       "      <td>30%</td>\n",
       "    </tr>\n",
       "  </tbody>\n",
       "</table>\n",
       "</div>"
      ],
      "text/plain": [
       "  Retailer  Retailer ID Invoice Date     Region     State      City  \\\n",
       "0  Walmart      1185732    1/14/2022  Northeast  New York  New York   \n",
       "1  Walmart      1185732    1/14/2022  Northeast  New York  New York   \n",
       "2  Walmart      1185732    1/14/2022  Northeast  New York  New York   \n",
       "3  Walmart      1185732    1/14/2022  Northeast  New York  New York   \n",
       "4  Walmart      1185732    1/14/2022  Northeast  New York  New York   \n",
       "\n",
       "  Beverage Brand  Days to \\nDeliver Delivery \\nCompany Price per \\nUnit  \\\n",
       "0      Coca-Cola                 25               USPS           $0.50    \n",
       "1      Diet Coke                 34              FedEx           $0.50    \n",
       "2         Sprite                 48                UPS           $0.40    \n",
       "3          Fanta                 20               USPS           $0.45    \n",
       "4       Powerade                 26               USPS           $0.60    \n",
       "\n",
       "  Units Sold Total Sales Operating Profit Operating Margin  \n",
       "0     12,000     $6,000           $3,000               50%  \n",
       "1     10,000     $5,000           $1,500               30%  \n",
       "2     10,000     $4,000           $1,400               35%  \n",
       "3      8,500     $3,825           $1,339               35%  \n",
       "4      9,000     $5,400           $1,620               30%  "
      ]
     },
     "execution_count": 2,
     "metadata": {},
     "output_type": "execute_result"
    }
   ],
   "source": [
    "# Reading the excel file into a pandas DataFrame\n",
    "coca=pd.read_csv(r\"C:\\Users\\joshua\\Documents\\Data Analytics and Machine Learning Project\\Cocacola Analysis\\Cocacola Raw Dataset.csv\")\n",
    "coca.head()\n",
    "\n"
   ]
  },
  {
   "cell_type": "code",
   "execution_count": 3,
   "id": "b3539012-fe5e-4a9f-ac51-f30612d4cb14",
   "metadata": {},
   "outputs": [
    {
     "data": {
      "text/plain": [
       "Index(['Retailer', 'Retailer ID', 'Invoice Date', 'Region', 'State', 'City',\n",
       "       'Beverage Brand', 'Days to \\nDeliver', 'Delivery \\nCompany',\n",
       "       'Price per \\nUnit', 'Units Sold', 'Total Sales', 'Operating Profit',\n",
       "       'Operating Margin'],\n",
       "      dtype='object')"
      ]
     },
     "execution_count": 3,
     "metadata": {},
     "output_type": "execute_result"
    }
   ],
   "source": [
    "coca.columns\n"
   ]
  },
  {
   "cell_type": "code",
   "execution_count": 4,
   "id": "c1448a98-c365-4c2a-b95d-5250fb5598c5",
   "metadata": {},
   "outputs": [
    {
     "data": {
      "text/plain": [
       "(3744, 14)"
      ]
     },
     "execution_count": 4,
     "metadata": {},
     "output_type": "execute_result"
    }
   ],
   "source": [
    "coca.shape"
   ]
  },
  {
   "cell_type": "code",
   "execution_count": 5,
   "id": "21ef21be-8c31-44a8-ab36-6edce371e494",
   "metadata": {},
   "outputs": [
    {
     "data": {
      "text/plain": [
       "Retailer              0\n",
       "Retailer ID           0\n",
       "Invoice Date          0\n",
       "Region                0\n",
       "State                 0\n",
       "City                  0\n",
       "Beverage Brand        0\n",
       "Days to \\nDeliver     0\n",
       "Delivery \\nCompany    0\n",
       "Price per \\nUnit      0\n",
       "Units Sold            0\n",
       "Total Sales           0\n",
       "Operating Profit      0\n",
       "Operating Margin      0\n",
       "dtype: int64"
      ]
     },
     "execution_count": 5,
     "metadata": {},
     "output_type": "execute_result"
    }
   ],
   "source": [
    "coca.isna().sum()"
   ]
  },
  {
   "cell_type": "code",
   "execution_count": 6,
   "id": "5c69dfa2-8809-4613-82ff-987db1b76a02",
   "metadata": {},
   "outputs": [
    {
     "data": {
      "text/plain": [
       "np.int64(0)"
      ]
     },
     "execution_count": 6,
     "metadata": {},
     "output_type": "execute_result"
    }
   ],
   "source": [
    "coca.duplicated().sum()"
   ]
  },
  {
   "cell_type": "code",
   "execution_count": 7,
   "id": "753a098d-c26a-451a-98f2-c6e95774c3f7",
   "metadata": {},
   "outputs": [
    {
     "name": "stdout",
     "output_type": "stream",
     "text": [
      "<class 'pandas.core.frame.DataFrame'>\n",
      "RangeIndex: 3744 entries, 0 to 3743\n",
      "Data columns (total 14 columns):\n",
      " #   Column             Non-Null Count  Dtype \n",
      "---  ------             --------------  ----- \n",
      " 0   Retailer           3744 non-null   object\n",
      " 1   Retailer ID        3744 non-null   int64 \n",
      " 2   Invoice Date       3744 non-null   object\n",
      " 3   Region             3744 non-null   object\n",
      " 4   State              3744 non-null   object\n",
      " 5   City               3744 non-null   object\n",
      " 6   Beverage Brand     3744 non-null   object\n",
      " 7   Days to \n",
      "Deliver   3744 non-null   int64 \n",
      " 8   Delivery \n",
      "Company  3744 non-null   object\n",
      " 9   Price per \n",
      "Unit    3744 non-null   object\n",
      " 10  Units Sold         3744 non-null   object\n",
      " 11  Total Sales        3744 non-null   object\n",
      " 12  Operating Profit   3744 non-null   object\n",
      " 13  Operating Margin   3744 non-null   object\n",
      "dtypes: int64(2), object(12)\n",
      "memory usage: 409.6+ KB\n"
     ]
    }
   ],
   "source": [
    "coca.info()"
   ]
  },
  {
   "cell_type": "code",
   "execution_count": 8,
   "id": "86388be0-9f35-4a73-88e3-c6f1a0930f50",
   "metadata": {},
   "outputs": [
    {
     "data": {
      "text/html": [
       "<div>\n",
       "<style scoped>\n",
       "    .dataframe tbody tr th:only-of-type {\n",
       "        vertical-align: middle;\n",
       "    }\n",
       "\n",
       "    .dataframe tbody tr th {\n",
       "        vertical-align: top;\n",
       "    }\n",
       "\n",
       "    .dataframe thead th {\n",
       "        text-align: right;\n",
       "    }\n",
       "</style>\n",
       "<table border=\"1\" class=\"dataframe\">\n",
       "  <thead>\n",
       "    <tr style=\"text-align: right;\">\n",
       "      <th></th>\n",
       "      <th>Retailer ID</th>\n",
       "      <th>Days to \\nDeliver</th>\n",
       "    </tr>\n",
       "  </thead>\n",
       "  <tbody>\n",
       "    <tr>\n",
       "      <th>count</th>\n",
       "      <td>3.744000e+03</td>\n",
       "      <td>3744.000000</td>\n",
       "    </tr>\n",
       "    <tr>\n",
       "      <th>mean</th>\n",
       "      <td>1.176706e+06</td>\n",
       "      <td>37.174145</td>\n",
       "    </tr>\n",
       "    <tr>\n",
       "      <th>std</th>\n",
       "      <td>2.400406e+04</td>\n",
       "      <td>13.304029</td>\n",
       "    </tr>\n",
       "    <tr>\n",
       "      <th>min</th>\n",
       "      <td>1.128299e+06</td>\n",
       "      <td>15.000000</td>\n",
       "    </tr>\n",
       "    <tr>\n",
       "      <th>25%</th>\n",
       "      <td>1.185732e+06</td>\n",
       "      <td>26.000000</td>\n",
       "    </tr>\n",
       "    <tr>\n",
       "      <th>50%</th>\n",
       "      <td>1.185732e+06</td>\n",
       "      <td>37.000000</td>\n",
       "    </tr>\n",
       "    <tr>\n",
       "      <th>75%</th>\n",
       "      <td>1.185732e+06</td>\n",
       "      <td>49.000000</td>\n",
       "    </tr>\n",
       "    <tr>\n",
       "      <th>max</th>\n",
       "      <td>1.197831e+06</td>\n",
       "      <td>60.000000</td>\n",
       "    </tr>\n",
       "  </tbody>\n",
       "</table>\n",
       "</div>"
      ],
      "text/plain": [
       "        Retailer ID  Days to \\nDeliver\n",
       "count  3.744000e+03        3744.000000\n",
       "mean   1.176706e+06          37.174145\n",
       "std    2.400406e+04          13.304029\n",
       "min    1.128299e+06          15.000000\n",
       "25%    1.185732e+06          26.000000\n",
       "50%    1.185732e+06          37.000000\n",
       "75%    1.185732e+06          49.000000\n",
       "max    1.197831e+06          60.000000"
      ]
     },
     "execution_count": 8,
     "metadata": {},
     "output_type": "execute_result"
    }
   ],
   "source": [
    "coca.describe()"
   ]
  },
  {
   "cell_type": "markdown",
   "id": "62a07e24-4096-42fe-b9bb-85d83fb29611",
   "metadata": {},
   "source": [
    "**Data Cleaning and Preprocessing**"
   ]
  },
  {
   "cell_type": "code",
   "execution_count": 9,
   "id": "67a98f69-ebe4-48f9-9490-c5d8a91d475f",
   "metadata": {},
   "outputs": [],
   "source": [
    "# Removing irrelevant columns\n",
    "coca.drop(['Days to \\nDeliver'], axis=1, inplace=True)"
   ]
  },
  {
   "cell_type": "code",
   "execution_count": 10,
   "id": "0182f8dc-aac5-43bf-8c88-3395808f30c5",
   "metadata": {},
   "outputs": [
    {
     "data": {
      "text/html": [
       "<div>\n",
       "<style scoped>\n",
       "    .dataframe tbody tr th:only-of-type {\n",
       "        vertical-align: middle;\n",
       "    }\n",
       "\n",
       "    .dataframe tbody tr th {\n",
       "        vertical-align: top;\n",
       "    }\n",
       "\n",
       "    .dataframe thead th {\n",
       "        text-align: right;\n",
       "    }\n",
       "</style>\n",
       "<table border=\"1\" class=\"dataframe\">\n",
       "  <thead>\n",
       "    <tr style=\"text-align: right;\">\n",
       "      <th></th>\n",
       "      <th>Retailer</th>\n",
       "      <th>Retailer ID</th>\n",
       "      <th>Invoice Date</th>\n",
       "      <th>Region</th>\n",
       "      <th>State</th>\n",
       "      <th>City</th>\n",
       "      <th>Beverage Brand</th>\n",
       "      <th>Delivery \\nCompany</th>\n",
       "      <th>Price per \\nUnit</th>\n",
       "      <th>Units Sold</th>\n",
       "      <th>Total Sales</th>\n",
       "      <th>Operating Profit</th>\n",
       "      <th>Operating Margin</th>\n",
       "    </tr>\n",
       "  </thead>\n",
       "  <tbody>\n",
       "    <tr>\n",
       "      <th>0</th>\n",
       "      <td>Walmart</td>\n",
       "      <td>1185732</td>\n",
       "      <td>1/14/2022</td>\n",
       "      <td>Northeast</td>\n",
       "      <td>New York</td>\n",
       "      <td>New York</td>\n",
       "      <td>Coca-Cola</td>\n",
       "      <td>USPS</td>\n",
       "      <td>$0.50</td>\n",
       "      <td>12,000</td>\n",
       "      <td>$6,000</td>\n",
       "      <td>$3,000</td>\n",
       "      <td>50%</td>\n",
       "    </tr>\n",
       "    <tr>\n",
       "      <th>1</th>\n",
       "      <td>Walmart</td>\n",
       "      <td>1185732</td>\n",
       "      <td>1/14/2022</td>\n",
       "      <td>Northeast</td>\n",
       "      <td>New York</td>\n",
       "      <td>New York</td>\n",
       "      <td>Diet Coke</td>\n",
       "      <td>FedEx</td>\n",
       "      <td>$0.50</td>\n",
       "      <td>10,000</td>\n",
       "      <td>$5,000</td>\n",
       "      <td>$1,500</td>\n",
       "      <td>30%</td>\n",
       "    </tr>\n",
       "    <tr>\n",
       "      <th>2</th>\n",
       "      <td>Walmart</td>\n",
       "      <td>1185732</td>\n",
       "      <td>1/14/2022</td>\n",
       "      <td>Northeast</td>\n",
       "      <td>New York</td>\n",
       "      <td>New York</td>\n",
       "      <td>Sprite</td>\n",
       "      <td>UPS</td>\n",
       "      <td>$0.40</td>\n",
       "      <td>10,000</td>\n",
       "      <td>$4,000</td>\n",
       "      <td>$1,400</td>\n",
       "      <td>35%</td>\n",
       "    </tr>\n",
       "    <tr>\n",
       "      <th>3</th>\n",
       "      <td>Walmart</td>\n",
       "      <td>1185732</td>\n",
       "      <td>1/14/2022</td>\n",
       "      <td>Northeast</td>\n",
       "      <td>New York</td>\n",
       "      <td>New York</td>\n",
       "      <td>Fanta</td>\n",
       "      <td>USPS</td>\n",
       "      <td>$0.45</td>\n",
       "      <td>8,500</td>\n",
       "      <td>$3,825</td>\n",
       "      <td>$1,339</td>\n",
       "      <td>35%</td>\n",
       "    </tr>\n",
       "    <tr>\n",
       "      <th>4</th>\n",
       "      <td>Walmart</td>\n",
       "      <td>1185732</td>\n",
       "      <td>1/14/2022</td>\n",
       "      <td>Northeast</td>\n",
       "      <td>New York</td>\n",
       "      <td>New York</td>\n",
       "      <td>Powerade</td>\n",
       "      <td>USPS</td>\n",
       "      <td>$0.60</td>\n",
       "      <td>9,000</td>\n",
       "      <td>$5,400</td>\n",
       "      <td>$1,620</td>\n",
       "      <td>30%</td>\n",
       "    </tr>\n",
       "  </tbody>\n",
       "</table>\n",
       "</div>"
      ],
      "text/plain": [
       "  Retailer  Retailer ID Invoice Date     Region     State      City  \\\n",
       "0  Walmart      1185732    1/14/2022  Northeast  New York  New York   \n",
       "1  Walmart      1185732    1/14/2022  Northeast  New York  New York   \n",
       "2  Walmart      1185732    1/14/2022  Northeast  New York  New York   \n",
       "3  Walmart      1185732    1/14/2022  Northeast  New York  New York   \n",
       "4  Walmart      1185732    1/14/2022  Northeast  New York  New York   \n",
       "\n",
       "  Beverage Brand Delivery \\nCompany Price per \\nUnit Units Sold Total Sales  \\\n",
       "0      Coca-Cola               USPS           $0.50      12,000     $6,000    \n",
       "1      Diet Coke              FedEx           $0.50      10,000     $5,000    \n",
       "2         Sprite                UPS           $0.40      10,000     $4,000    \n",
       "3          Fanta               USPS           $0.45       8,500     $3,825    \n",
       "4       Powerade               USPS           $0.60       9,000     $5,400    \n",
       "\n",
       "  Operating Profit Operating Margin  \n",
       "0          $3,000               50%  \n",
       "1          $1,500               30%  \n",
       "2          $1,400               35%  \n",
       "3          $1,339               35%  \n",
       "4          $1,620               30%  "
      ]
     },
     "execution_count": 10,
     "metadata": {},
     "output_type": "execute_result"
    }
   ],
   "source": [
    "coca.head()"
   ]
  },
  {
   "cell_type": "code",
   "execution_count": 11,
   "id": "86aeebac-d5b6-4d42-aae7-4755cc0a4154",
   "metadata": {},
   "outputs": [],
   "source": [
    "coca['Invoice Date']=pd.to_datetime(coca['Invoice Date'], errors='coerce')"
   ]
  },
  {
   "cell_type": "code",
   "execution_count": 12,
   "id": "cdaa0bcc-683e-4f1e-8a5e-6069e1095607",
   "metadata": {},
   "outputs": [
    {
     "data": {
      "text/plain": [
       "Retailer                      object\n",
       "Retailer ID                    int64\n",
       "Invoice Date          datetime64[ns]\n",
       "Region                        object\n",
       "State                         object\n",
       "City                          object\n",
       "Beverage Brand                object\n",
       "Delivery \\nCompany            object\n",
       "Price per \\nUnit              object\n",
       "Units Sold                    object\n",
       "Total Sales                   object\n",
       "Operating Profit              object\n",
       "Operating Margin              object\n",
       "dtype: object"
      ]
     },
     "execution_count": 12,
     "metadata": {},
     "output_type": "execute_result"
    }
   ],
   "source": [
    "coca.dtypes"
   ]
  },
  {
   "cell_type": "code",
   "execution_count": 13,
   "id": "91101223-1685-4a32-bf8e-d51e1c3fd51c",
   "metadata": {},
   "outputs": [],
   "source": [
    "coca.columns=coca.columns.str.replace(' ', '_').str.lower().str.replace('\\n', '', regex=True)"
   ]
  },
  {
   "cell_type": "code",
   "execution_count": 14,
   "id": "a4e571e8-f4db-42f4-8c30-b2daac2026a2",
   "metadata": {},
   "outputs": [
    {
     "data": {
      "text/plain": [
       "Index(['retailer', 'retailer_id', 'invoice_date', 'region', 'state', 'city',\n",
       "       'beverage_brand', 'delivery_company', 'price_per_unit', 'units_sold',\n",
       "       'total_sales', 'operating_profit', 'operating_margin'],\n",
       "      dtype='object')"
      ]
     },
     "execution_count": 14,
     "metadata": {},
     "output_type": "execute_result"
    }
   ],
   "source": [
    "coca.columns"
   ]
  },
  {
   "cell_type": "code",
   "execution_count": 15,
   "id": "ecbc1b1c-87c6-496b-bc28-f3f36836d4de",
   "metadata": {},
   "outputs": [
    {
     "data": {
      "text/html": [
       "<div>\n",
       "<style scoped>\n",
       "    .dataframe tbody tr th:only-of-type {\n",
       "        vertical-align: middle;\n",
       "    }\n",
       "\n",
       "    .dataframe tbody tr th {\n",
       "        vertical-align: top;\n",
       "    }\n",
       "\n",
       "    .dataframe thead th {\n",
       "        text-align: right;\n",
       "    }\n",
       "</style>\n",
       "<table border=\"1\" class=\"dataframe\">\n",
       "  <thead>\n",
       "    <tr style=\"text-align: right;\">\n",
       "      <th></th>\n",
       "      <th>retailer</th>\n",
       "      <th>retailer_id</th>\n",
       "      <th>invoice_date</th>\n",
       "      <th>region</th>\n",
       "      <th>state</th>\n",
       "      <th>city</th>\n",
       "      <th>beverage_brand</th>\n",
       "      <th>delivery_company</th>\n",
       "      <th>price_per_unit</th>\n",
       "      <th>units_sold</th>\n",
       "      <th>total_sales</th>\n",
       "      <th>operating_profit</th>\n",
       "      <th>operating_margin</th>\n",
       "    </tr>\n",
       "  </thead>\n",
       "  <tbody>\n",
       "    <tr>\n",
       "      <th>0</th>\n",
       "      <td>Walmart</td>\n",
       "      <td>1185732</td>\n",
       "      <td>2022-01-14</td>\n",
       "      <td>Northeast</td>\n",
       "      <td>New York</td>\n",
       "      <td>New York</td>\n",
       "      <td>Coca-Cola</td>\n",
       "      <td>USPS</td>\n",
       "      <td>$0.50</td>\n",
       "      <td>12,000</td>\n",
       "      <td>$6,000</td>\n",
       "      <td>$3,000</td>\n",
       "      <td>50%</td>\n",
       "    </tr>\n",
       "    <tr>\n",
       "      <th>1</th>\n",
       "      <td>Walmart</td>\n",
       "      <td>1185732</td>\n",
       "      <td>2022-01-14</td>\n",
       "      <td>Northeast</td>\n",
       "      <td>New York</td>\n",
       "      <td>New York</td>\n",
       "      <td>Diet Coke</td>\n",
       "      <td>FedEx</td>\n",
       "      <td>$0.50</td>\n",
       "      <td>10,000</td>\n",
       "      <td>$5,000</td>\n",
       "      <td>$1,500</td>\n",
       "      <td>30%</td>\n",
       "    </tr>\n",
       "    <tr>\n",
       "      <th>2</th>\n",
       "      <td>Walmart</td>\n",
       "      <td>1185732</td>\n",
       "      <td>2022-01-14</td>\n",
       "      <td>Northeast</td>\n",
       "      <td>New York</td>\n",
       "      <td>New York</td>\n",
       "      <td>Sprite</td>\n",
       "      <td>UPS</td>\n",
       "      <td>$0.40</td>\n",
       "      <td>10,000</td>\n",
       "      <td>$4,000</td>\n",
       "      <td>$1,400</td>\n",
       "      <td>35%</td>\n",
       "    </tr>\n",
       "    <tr>\n",
       "      <th>3</th>\n",
       "      <td>Walmart</td>\n",
       "      <td>1185732</td>\n",
       "      <td>2022-01-14</td>\n",
       "      <td>Northeast</td>\n",
       "      <td>New York</td>\n",
       "      <td>New York</td>\n",
       "      <td>Fanta</td>\n",
       "      <td>USPS</td>\n",
       "      <td>$0.45</td>\n",
       "      <td>8,500</td>\n",
       "      <td>$3,825</td>\n",
       "      <td>$1,339</td>\n",
       "      <td>35%</td>\n",
       "    </tr>\n",
       "    <tr>\n",
       "      <th>4</th>\n",
       "      <td>Walmart</td>\n",
       "      <td>1185732</td>\n",
       "      <td>2022-01-14</td>\n",
       "      <td>Northeast</td>\n",
       "      <td>New York</td>\n",
       "      <td>New York</td>\n",
       "      <td>Powerade</td>\n",
       "      <td>USPS</td>\n",
       "      <td>$0.60</td>\n",
       "      <td>9,000</td>\n",
       "      <td>$5,400</td>\n",
       "      <td>$1,620</td>\n",
       "      <td>30%</td>\n",
       "    </tr>\n",
       "  </tbody>\n",
       "</table>\n",
       "</div>"
      ],
      "text/plain": [
       "  retailer  retailer_id invoice_date     region     state      city  \\\n",
       "0  Walmart      1185732   2022-01-14  Northeast  New York  New York   \n",
       "1  Walmart      1185732   2022-01-14  Northeast  New York  New York   \n",
       "2  Walmart      1185732   2022-01-14  Northeast  New York  New York   \n",
       "3  Walmart      1185732   2022-01-14  Northeast  New York  New York   \n",
       "4  Walmart      1185732   2022-01-14  Northeast  New York  New York   \n",
       "\n",
       "  beverage_brand delivery_company price_per_unit units_sold total_sales  \\\n",
       "0      Coca-Cola             USPS         $0.50      12,000     $6,000    \n",
       "1      Diet Coke            FedEx         $0.50      10,000     $5,000    \n",
       "2         Sprite              UPS         $0.40      10,000     $4,000    \n",
       "3          Fanta             USPS         $0.45       8,500     $3,825    \n",
       "4       Powerade             USPS         $0.60       9,000     $5,400    \n",
       "\n",
       "  operating_profit operating_margin  \n",
       "0          $3,000               50%  \n",
       "1          $1,500               30%  \n",
       "2          $1,400               35%  \n",
       "3          $1,339               35%  \n",
       "4          $1,620               30%  "
      ]
     },
     "execution_count": 15,
     "metadata": {},
     "output_type": "execute_result"
    }
   ],
   "source": [
    "coca.head()"
   ]
  },
  {
   "cell_type": "code",
   "execution_count": 28,
   "id": "834c1ee2-3aa7-489f-b2a6-5685434c6b28",
   "metadata": {},
   "outputs": [],
   "source": [
    "def convert_columns(df, column_name):\n",
    "  \"\"\"\n",
    "  Adjust a DataFrame column in an object state to a float.\n",
    "\n",
    "  Parameters:\n",
    "  - df: The DataFrame containing the column.\n",
    "  - column_name: The name of the column to be adjusted.\n",
    "\n",
    "  Returns:\n",
    "  - DataFrame: The adjusted DataFrame.\n",
    "\n",
    "  Raises:\n",
    "  ValueError: If any of the parameters is empty.\n",
    "  \"\"\"\n",
    "\n",
    "  # convert the column to string\n",
    "  df[column_name] = df[column_name].astype(str)\n",
    "\n",
    "  # remove non-numeric characters, and replace empty spaces with Nan, and convert to float\n",
    "  df[column_name] = df[column_name].str.replace(r'[$,%]', \"\", regex=True).replace('', np.nan).astype(float)\n",
    "\n",
    "  return df"
   ]
  },
  {
   "cell_type": "code",
   "execution_count": 29,
   "id": "fa919800-0a6e-4ece-9efe-2e73e8380577",
   "metadata": {},
   "outputs": [],
   "source": [
    "columns_to_convert = ['price_per_unit', 'units_sold', 'total_sales', 'operating_margin', 'operating_profit' ]\n",
    "\n",
    "for _ in columns_to_convert:\n",
    "    coca = convert_columns(coca, _)"
   ]
  },
  {
   "cell_type": "code",
   "execution_count": 30,
   "id": "909bd5d8-0f13-476c-a563-45fdce5a6654",
   "metadata": {},
   "outputs": [
    {
     "data": {
      "text/html": [
       "<div>\n",
       "<style scoped>\n",
       "    .dataframe tbody tr th:only-of-type {\n",
       "        vertical-align: middle;\n",
       "    }\n",
       "\n",
       "    .dataframe tbody tr th {\n",
       "        vertical-align: top;\n",
       "    }\n",
       "\n",
       "    .dataframe thead th {\n",
       "        text-align: right;\n",
       "    }\n",
       "</style>\n",
       "<table border=\"1\" class=\"dataframe\">\n",
       "  <thead>\n",
       "    <tr style=\"text-align: right;\">\n",
       "      <th></th>\n",
       "      <th>retailer</th>\n",
       "      <th>retailer_id</th>\n",
       "      <th>invoice_date</th>\n",
       "      <th>region</th>\n",
       "      <th>state</th>\n",
       "      <th>city</th>\n",
       "      <th>beverage_brand</th>\n",
       "      <th>delivery_company</th>\n",
       "      <th>price_per_unit</th>\n",
       "      <th>units_sold</th>\n",
       "      <th>total_sales</th>\n",
       "      <th>operating_profit</th>\n",
       "      <th>operating_margin</th>\n",
       "    </tr>\n",
       "  </thead>\n",
       "  <tbody>\n",
       "    <tr>\n",
       "      <th>0</th>\n",
       "      <td>Walmart</td>\n",
       "      <td>1185732</td>\n",
       "      <td>2022-01-14</td>\n",
       "      <td>Northeast</td>\n",
       "      <td>New York</td>\n",
       "      <td>New York</td>\n",
       "      <td>Coca-Cola</td>\n",
       "      <td>USPS</td>\n",
       "      <td>0.50</td>\n",
       "      <td>12000.0</td>\n",
       "      <td>6000.0</td>\n",
       "      <td>3000.0</td>\n",
       "      <td>50.0</td>\n",
       "    </tr>\n",
       "    <tr>\n",
       "      <th>1</th>\n",
       "      <td>Walmart</td>\n",
       "      <td>1185732</td>\n",
       "      <td>2022-01-14</td>\n",
       "      <td>Northeast</td>\n",
       "      <td>New York</td>\n",
       "      <td>New York</td>\n",
       "      <td>Diet Coke</td>\n",
       "      <td>FedEx</td>\n",
       "      <td>0.50</td>\n",
       "      <td>10000.0</td>\n",
       "      <td>5000.0</td>\n",
       "      <td>1500.0</td>\n",
       "      <td>30.0</td>\n",
       "    </tr>\n",
       "    <tr>\n",
       "      <th>2</th>\n",
       "      <td>Walmart</td>\n",
       "      <td>1185732</td>\n",
       "      <td>2022-01-14</td>\n",
       "      <td>Northeast</td>\n",
       "      <td>New York</td>\n",
       "      <td>New York</td>\n",
       "      <td>Sprite</td>\n",
       "      <td>UPS</td>\n",
       "      <td>0.40</td>\n",
       "      <td>10000.0</td>\n",
       "      <td>4000.0</td>\n",
       "      <td>1400.0</td>\n",
       "      <td>35.0</td>\n",
       "    </tr>\n",
       "    <tr>\n",
       "      <th>3</th>\n",
       "      <td>Walmart</td>\n",
       "      <td>1185732</td>\n",
       "      <td>2022-01-14</td>\n",
       "      <td>Northeast</td>\n",
       "      <td>New York</td>\n",
       "      <td>New York</td>\n",
       "      <td>Fanta</td>\n",
       "      <td>USPS</td>\n",
       "      <td>0.45</td>\n",
       "      <td>8500.0</td>\n",
       "      <td>3825.0</td>\n",
       "      <td>1339.0</td>\n",
       "      <td>35.0</td>\n",
       "    </tr>\n",
       "    <tr>\n",
       "      <th>4</th>\n",
       "      <td>Walmart</td>\n",
       "      <td>1185732</td>\n",
       "      <td>2022-01-14</td>\n",
       "      <td>Northeast</td>\n",
       "      <td>New York</td>\n",
       "      <td>New York</td>\n",
       "      <td>Powerade</td>\n",
       "      <td>USPS</td>\n",
       "      <td>0.60</td>\n",
       "      <td>9000.0</td>\n",
       "      <td>5400.0</td>\n",
       "      <td>1620.0</td>\n",
       "      <td>30.0</td>\n",
       "    </tr>\n",
       "  </tbody>\n",
       "</table>\n",
       "</div>"
      ],
      "text/plain": [
       "  retailer  retailer_id invoice_date     region     state      city  \\\n",
       "0  Walmart      1185732   2022-01-14  Northeast  New York  New York   \n",
       "1  Walmart      1185732   2022-01-14  Northeast  New York  New York   \n",
       "2  Walmart      1185732   2022-01-14  Northeast  New York  New York   \n",
       "3  Walmart      1185732   2022-01-14  Northeast  New York  New York   \n",
       "4  Walmart      1185732   2022-01-14  Northeast  New York  New York   \n",
       "\n",
       "  beverage_brand delivery_company  price_per_unit  units_sold  total_sales  \\\n",
       "0      Coca-Cola             USPS            0.50     12000.0       6000.0   \n",
       "1      Diet Coke            FedEx            0.50     10000.0       5000.0   \n",
       "2         Sprite              UPS            0.40     10000.0       4000.0   \n",
       "3          Fanta             USPS            0.45      8500.0       3825.0   \n",
       "4       Powerade             USPS            0.60      9000.0       5400.0   \n",
       "\n",
       "   operating_profit  operating_margin  \n",
       "0            3000.0              50.0  \n",
       "1            1500.0              30.0  \n",
       "2            1400.0              35.0  \n",
       "3            1339.0              35.0  \n",
       "4            1620.0              30.0  "
      ]
     },
     "execution_count": 30,
     "metadata": {},
     "output_type": "execute_result"
    }
   ],
   "source": [
    "coca.head()"
   ]
  },
  {
   "cell_type": "code",
   "execution_count": 27,
   "id": "2e9f92bb-4580-4ac9-bdd5-cb5577eaff85",
   "metadata": {},
   "outputs": [
    {
     "data": {
      "text/plain": [
       "retailer            0\n",
       "retailer_id         0\n",
       "invoice_date        0\n",
       "region              0\n",
       "state               0\n",
       "city                0\n",
       "beverage_brand      0\n",
       "delivery_company    0\n",
       "price_per_unit      0\n",
       "units_sold          0\n",
       "total_sales         0\n",
       "operating_profit    0\n",
       "operating_margin    0\n",
       "dtype: int64"
      ]
     },
     "execution_count": 27,
     "metadata": {},
     "output_type": "execute_result"
    }
   ],
   "source": [
    "coca.isna().sum()"
   ]
  },
  {
   "cell_type": "code",
   "execution_count": 31,
   "id": "90f631ea-fbf2-4b14-9752-1d261fe2c979",
   "metadata": {},
   "outputs": [],
   "source": [
    "coca = coca. rename(columns={\n",
    "    'price_per_unit': 'price_per_unit ($)',\n",
    "    'total_sales': 'total_sales ($)',\n",
    "    'operating_profit': 'operating_profit ($)',\n",
    "    'operating_margin': 'operating_margin (%)'\n",
    "})\n",
    "    "
   ]
  },
  {
   "cell_type": "code",
   "execution_count": 32,
   "id": "a53e8004-1d06-42d8-bfcd-5aebeb66e9b9",
   "metadata": {},
   "outputs": [
    {
     "data": {
      "text/html": [
       "<div>\n",
       "<style scoped>\n",
       "    .dataframe tbody tr th:only-of-type {\n",
       "        vertical-align: middle;\n",
       "    }\n",
       "\n",
       "    .dataframe tbody tr th {\n",
       "        vertical-align: top;\n",
       "    }\n",
       "\n",
       "    .dataframe thead th {\n",
       "        text-align: right;\n",
       "    }\n",
       "</style>\n",
       "<table border=\"1\" class=\"dataframe\">\n",
       "  <thead>\n",
       "    <tr style=\"text-align: right;\">\n",
       "      <th></th>\n",
       "      <th>retailer</th>\n",
       "      <th>retailer_id</th>\n",
       "      <th>invoice_date</th>\n",
       "      <th>region</th>\n",
       "      <th>state</th>\n",
       "      <th>city</th>\n",
       "      <th>beverage_brand</th>\n",
       "      <th>delivery_company</th>\n",
       "      <th>price_per_unit ($)</th>\n",
       "      <th>units_sold</th>\n",
       "      <th>total_sales ($)</th>\n",
       "      <th>operating_profit ($)</th>\n",
       "      <th>operating_margin (%)</th>\n",
       "    </tr>\n",
       "  </thead>\n",
       "  <tbody>\n",
       "    <tr>\n",
       "      <th>0</th>\n",
       "      <td>Walmart</td>\n",
       "      <td>1185732</td>\n",
       "      <td>2022-01-14</td>\n",
       "      <td>Northeast</td>\n",
       "      <td>New York</td>\n",
       "      <td>New York</td>\n",
       "      <td>Coca-Cola</td>\n",
       "      <td>USPS</td>\n",
       "      <td>0.50</td>\n",
       "      <td>12000.0</td>\n",
       "      <td>6000.0</td>\n",
       "      <td>3000.0</td>\n",
       "      <td>50.0</td>\n",
       "    </tr>\n",
       "    <tr>\n",
       "      <th>1</th>\n",
       "      <td>Walmart</td>\n",
       "      <td>1185732</td>\n",
       "      <td>2022-01-14</td>\n",
       "      <td>Northeast</td>\n",
       "      <td>New York</td>\n",
       "      <td>New York</td>\n",
       "      <td>Diet Coke</td>\n",
       "      <td>FedEx</td>\n",
       "      <td>0.50</td>\n",
       "      <td>10000.0</td>\n",
       "      <td>5000.0</td>\n",
       "      <td>1500.0</td>\n",
       "      <td>30.0</td>\n",
       "    </tr>\n",
       "    <tr>\n",
       "      <th>2</th>\n",
       "      <td>Walmart</td>\n",
       "      <td>1185732</td>\n",
       "      <td>2022-01-14</td>\n",
       "      <td>Northeast</td>\n",
       "      <td>New York</td>\n",
       "      <td>New York</td>\n",
       "      <td>Sprite</td>\n",
       "      <td>UPS</td>\n",
       "      <td>0.40</td>\n",
       "      <td>10000.0</td>\n",
       "      <td>4000.0</td>\n",
       "      <td>1400.0</td>\n",
       "      <td>35.0</td>\n",
       "    </tr>\n",
       "    <tr>\n",
       "      <th>3</th>\n",
       "      <td>Walmart</td>\n",
       "      <td>1185732</td>\n",
       "      <td>2022-01-14</td>\n",
       "      <td>Northeast</td>\n",
       "      <td>New York</td>\n",
       "      <td>New York</td>\n",
       "      <td>Fanta</td>\n",
       "      <td>USPS</td>\n",
       "      <td>0.45</td>\n",
       "      <td>8500.0</td>\n",
       "      <td>3825.0</td>\n",
       "      <td>1339.0</td>\n",
       "      <td>35.0</td>\n",
       "    </tr>\n",
       "    <tr>\n",
       "      <th>4</th>\n",
       "      <td>Walmart</td>\n",
       "      <td>1185732</td>\n",
       "      <td>2022-01-14</td>\n",
       "      <td>Northeast</td>\n",
       "      <td>New York</td>\n",
       "      <td>New York</td>\n",
       "      <td>Powerade</td>\n",
       "      <td>USPS</td>\n",
       "      <td>0.60</td>\n",
       "      <td>9000.0</td>\n",
       "      <td>5400.0</td>\n",
       "      <td>1620.0</td>\n",
       "      <td>30.0</td>\n",
       "    </tr>\n",
       "  </tbody>\n",
       "</table>\n",
       "</div>"
      ],
      "text/plain": [
       "  retailer  retailer_id invoice_date     region     state      city  \\\n",
       "0  Walmart      1185732   2022-01-14  Northeast  New York  New York   \n",
       "1  Walmart      1185732   2022-01-14  Northeast  New York  New York   \n",
       "2  Walmart      1185732   2022-01-14  Northeast  New York  New York   \n",
       "3  Walmart      1185732   2022-01-14  Northeast  New York  New York   \n",
       "4  Walmart      1185732   2022-01-14  Northeast  New York  New York   \n",
       "\n",
       "  beverage_brand delivery_company  price_per_unit ($)  units_sold  \\\n",
       "0      Coca-Cola             USPS                0.50     12000.0   \n",
       "1      Diet Coke            FedEx                0.50     10000.0   \n",
       "2         Sprite              UPS                0.40     10000.0   \n",
       "3          Fanta             USPS                0.45      8500.0   \n",
       "4       Powerade             USPS                0.60      9000.0   \n",
       "\n",
       "   total_sales ($)  operating_profit ($)  operating_margin (%)  \n",
       "0           6000.0                3000.0                  50.0  \n",
       "1           5000.0                1500.0                  30.0  \n",
       "2           4000.0                1400.0                  35.0  \n",
       "3           3825.0                1339.0                  35.0  \n",
       "4           5400.0                1620.0                  30.0  "
      ]
     },
     "execution_count": 32,
     "metadata": {},
     "output_type": "execute_result"
    }
   ],
   "source": [
    "coca.head()"
   ]
  },
  {
   "cell_type": "code",
   "execution_count": 34,
   "id": "ef1c6efa-dd6b-42f1-a764-9894edfbc2ed",
   "metadata": {},
   "outputs": [
    {
     "data": {
      "text/plain": [
       "retailer                        object\n",
       "retailer_id                      int64\n",
       "invoice_date            datetime64[ns]\n",
       "region                          object\n",
       "state                           object\n",
       "city                            object\n",
       "beverage_brand                  object\n",
       "delivery_company                object\n",
       "price_per_unit ($)             float64\n",
       "units_sold                     float64\n",
       "total_sales ($)                float64\n",
       "operating_profit ($)           float64\n",
       "operating_margin (%)           float64\n",
       "dtype: object"
      ]
     },
     "execution_count": 34,
     "metadata": {},
     "output_type": "execute_result"
    }
   ],
   "source": [
    "coca.dtypes"
   ]
  },
  {
   "cell_type": "code",
   "execution_count": 44,
   "id": "6492b76c-65c4-4b0c-8566-50764aa0ccaf",
   "metadata": {},
   "outputs": [
    {
     "data": {
      "text/plain": [
       "array(['Coca-Cola', 'Diet Coke', 'Sprite', 'Fanta', 'Powerade',\n",
       "       'Dasani Water'], dtype=object)"
      ]
     },
     "execution_count": 44,
     "metadata": {},
     "output_type": "execute_result"
    }
   ],
   "source": [
    "coca['beverage_brand'].unique()"
   ]
  },
  {
   "cell_type": "code",
   "execution_count": 50,
   "id": "194c7d44-c014-42db-a18a-fe6bab1594ad",
   "metadata": {},
   "outputs": [
    {
     "data": {
      "text/plain": [
       "array(['New York', 'Texas', 'California', 'Illinois', 'Pennsylvania',\n",
       "       'Nevada', 'Colorado', 'Washington', 'Florida', 'Minnesota',\n",
       "       'Montana', 'Tennessee', 'Nebraska', 'Alabama', 'Maine', 'Wyoming',\n",
       "       'Virginia', 'Michigan', 'Missouri', 'Utah', 'Oregon', 'Louisiana',\n",
       "       'Idaho', 'Arizona', 'New Mexico', 'Georgia', 'South Carolina',\n",
       "       'North Carolina', 'Ohio', 'Kentucky', 'Mississippi', 'Arkansas',\n",
       "       'Oklahoma', 'Kansas', 'South Dakota', 'North Dakota', 'Iowa',\n",
       "       'Wisconsin', 'Indiana', 'West Virginia', 'Maryland', 'Delaware',\n",
       "       'New Jersey', 'Connecticut', 'Rhode Island', 'Massachusetts',\n",
       "       'Vermont', 'New Hampshire'], dtype=object)"
      ]
     },
     "execution_count": 50,
     "metadata": {},
     "output_type": "execute_result"
    }
   ],
   "source": [
    "coca['state'].unique()"
   ]
  },
  {
   "cell_type": "code",
   "execution_count": 51,
   "id": "d784474a-aead-434d-8067-599df5941751",
   "metadata": {},
   "outputs": [
    {
     "data": {
      "text/plain": [
       "array(['Northeast', 'South', 'West', 'Midwest', 'Southeast'], dtype=object)"
      ]
     },
     "execution_count": 51,
     "metadata": {},
     "output_type": "execute_result"
    }
   ],
   "source": [
    "coca['region'].unique()"
   ]
  },
  {
   "cell_type": "markdown",
   "id": "c39c4bd9-153e-4244-9160-3bb21e525af6",
   "metadata": {},
   "source": [
    "### 📊  Exploratory Data Analysis (EDA)"
   ]
  },
  {
   "cell_type": "code",
   "execution_count": 40,
   "id": "1566f798-08d3-4177-8b5c-99af4d321abf",
   "metadata": {},
   "outputs": [],
   "source": [
    "sns.set_theme(style='dark')"
   ]
  },
  {
   "cell_type": "markdown",
   "id": "90e6eecd-224f-4648-82c2-dafc9aa4a2a8",
   "metadata": {},
   "source": [
    "📂 Save Plot Function – Organized Export of Visualizations"
   ]
  },
  {
   "cell_type": "code",
   "execution_count": 47,
   "id": "1e019d00-b70e-41e2-a61d-f77e3883f673",
   "metadata": {},
   "outputs": [],
   "source": [
    "import os\n",
    "def save_plot(filename, folder='plots', dpi=300):\n",
    "    \"\"\"\n",
    "    Saves the current plot to a specified folder with the given filename.\n",
    "    Creates the folder if it doesn't exist.\n",
    "    \n",
    "    Parameters:\n",
    "    - filename (str): Name of the file (e.g., 'content_distribution.png')\n",
    "    - folder (str): Folder to save the plot in (default: 'plots')\n",
    "    - dpi (int): Resolution of the image (default: 300)\n",
    "    \"\"\"\n",
    "    if not os.path.exists(folder):\n",
    "        os.makedirs(folder)\n",
    "    full_path = os.path.join(folder, filename)\n",
    "    plt.savefig(full_path, dpi=dpi, bbox_inches='tight')\n",
    "    print(f\"Plot saved to: {full_path}\")"
   ]
  },
  {
   "cell_type": "markdown",
   "id": "8ca0880f-907c-4a63-982d-4eb3a9470e26",
   "metadata": {},
   "source": [
    "**1. Brand Analysis**\n",
    "\n",
    "**Which are the top 3 beverage brands by total units sold?\"**"
   ]
  },
  {
   "cell_type": "code",
   "execution_count": 38,
   "id": "8cc560f0-13e9-4e4e-aeb9-db41108f418a",
   "metadata": {},
   "outputs": [
    {
     "name": "stdout",
     "output_type": "stream",
     "text": [
      "beverage_brand\n",
      "Coca-Cola       1923131.0\n",
      "Dasani Water    1639131.0\n",
      "Diet Coke       1391164.0\n",
      "Name: total_sales ($), dtype: float64\n"
     ]
    }
   ],
   "source": [
    "brand_sales= coca.groupby('beverage_brand')['total_sales ($)'].sum().sort_values(ascending=False).head(3)\n",
    "print(brand_sales)"
   ]
  },
  {
   "cell_type": "code",
   "execution_count": 48,
   "id": "eda3365c-2e8f-488b-9df0-d8c6447c90ff",
   "metadata": {
    "scrolled": true
   },
   "outputs": [
    {
     "name": "stdout",
     "output_type": "stream",
     "text": [
      "Plot saved to: plots\\Top 3 Beverage Brands by Total Sales.png\n"
     ]
    },
    {
     "data": {
      "image/png": "[encoded data removed]",
      "text/plain": [
       "<Figure size 640x480 with 1 Axes>"
      ]
     },
     "metadata": {},
     "output_type": "display_data"
    }
   ],
   "source": [
    "brand_colors = ['#E4002B', '#0072C6', '#A6A6A6']  # Coca-Cola, Dasani, Diet Coke\n",
    "\n",
    "brand_sales.plot(kind='bar', color=brand_colors, title='Top 3 Beverage Brands by Total Sales')\n",
    "plt.xlabel('Beverage Brand')\n",
    "plt.ylabel('Total Sales')\n",
    "plt.xticks(rotation=45)\n",
    "plt.tight_layout()\n",
    "save_plot('Top 3 Beverage Brands by Total Sales.png')\n",
    "plt.show()\n"
   ]
  },
  {
   "cell_type": "markdown",
   "id": "8130d3fe-baa4-452f-9e82-11848a71f47c",
   "metadata": {},
   "source": [
    "### 🔍 Insight: Top 3 Beverage Brands by Total Sales\n",
    "\n",
    "- 🟥 **Coca-Cola** leads the beverage market with the highest total sales, reflecting strong brand dominance and consumer loyalty.\n",
    "\n",
    "- 💧 **Dasani Water** follows closely behind, indicating a high demand for bottled water among consumers.\n",
    "\n",
    "- ⚪🥤 **Diet Coke** ranks third, maintaining a steady presence with its appeal to health-conscious, low-calorie drinkers.\n",
    "\n",
    "\n",
    "---\n",
    "\n",
    "### ✅ Recommendation\n",
    "\n",
    "- **Increase inventory** and promotional focus on Coca-Cola and Dasani Water in high-performing regions to maximize revenue.\n",
    "- **Explore targeted marketing** for Diet Coke, especially among health-conscious demographics to boost its visibility and engagement.\n",
    "- **Monitor seasonal trends** to identify opportunities where bottled water or diet drinks surge, and adjust supply accordingly.\n"
   ]
  },
  {
   "cell_type": "code",
   "execution_count": null,
   "id": "b363cf31-3222-4001-8095-fe2be3cf5039",
   "metadata": {},
   "outputs": [],
   "source": []
  }
 ],
 "metadata": {
  "kernelspec": {
   "display_name": "Python 3 (ipykernel)",
   "language": "python",
   "name": "python3"
  },
  "language_info": {
   "codemirror_mode": {
    "name": "ipython",
    "version": 3
   },
   "file_extension": ".py",
   "mimetype": "text/x-python",
   "name": "python",
   "nbconvert_exporter": "python",
   "pygments_lexer": "ipython3",
   "version": "3.12.4"
  }
 },
 "nbformat": 4,
 "nbformat_minor": 5
}
